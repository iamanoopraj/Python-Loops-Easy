{
 "cells": [
  {
   "cell_type": "markdown",
   "id": "104950d6-45ac-4a6e-99fc-dea06d7c5586",
   "metadata": {},
   "source": [
    "# <b><i><u>Assignment 1"
   ]
  },
  {
   "cell_type": "markdown",
   "id": "4078b7da-c619-42e3-82ce-3dc59ecbc70c",
   "metadata": {},
   "source": [
    "## 1. Given below is a list of names.\n",
    " ['Aditi','Vishal','Neha','Rahul','Iqra','Ubaid','Usha','Advik','Ishaa\n",
    " n','Manish']\n",
    " \n",
    " Separate out the names starting with vowels in a new list named\n",
    " “names_with_vowels”. "
   ]
  },
  {
   "cell_type": "code",
   "execution_count": 7,
   "id": "68998d06-ec34-46ee-9e16-49932e024560",
   "metadata": {},
   "outputs": [],
   "source": [
    "names = ['Aditi', 'Vishal', 'Neha', 'Rahul', 'Iqra', 'Ubaid', 'Usha',\n",
    " 'Advik', 'Ishaan', 'Manish']"
   ]
  },
  {
   "cell_type": "code",
   "execution_count": 10,
   "id": "6d2a0d44-d4b0-4701-afca-0a05ac44649d",
   "metadata": {},
   "outputs": [],
   "source": [
    "vowels = ['A', 'E', 'I', 'O', 'U']"
   ]
  },
  {
   "cell_type": "code",
   "execution_count": 13,
   "id": "e5222c9d-2016-44b4-ba31-863a136b9d1d",
   "metadata": {},
   "outputs": [],
   "source": [
    "names_with_vowels = [name for name in names if name[0] in vowels]"
   ]
  },
  {
   "cell_type": "code",
   "execution_count": 16,
   "id": "31c0e440-5617-45e6-8ee6-d3db924a811d",
   "metadata": {},
   "outputs": [
    {
     "data": {
      "text/plain": [
       "['Aditi', 'Iqra', 'Ubaid', 'Usha', 'Advik', 'Ishaan']"
      ]
     },
     "execution_count": 16,
     "metadata": {},
     "output_type": "execute_result"
    }
   ],
   "source": [
    "names_with_vowels"
   ]
  },
  {
   "cell_type": "markdown",
   "id": "97e5e85a-0c22-4682-a3fc-d06612f94cfc",
   "metadata": {},
   "source": [
    "## 2. Below is the list of numbers. Create a new list and pick up and add the\n",
    " alternate numbers starting from first element from left,from the\n",
    " following list\n",
    "\n",
    " [1, 3, 4, 4, 6, 7, 7, 9, 9, 10, 11, 12] "
   ]
  },
  {
   "cell_type": "code",
   "execution_count": 20,
   "id": "d5101554-d96b-4b68-a16b-37eccef1e4af",
   "metadata": {},
   "outputs": [],
   "source": [
    "numbers = [1, 3, 4, 4, 6, 7, 7, 9, 9, 10, 11, 12]"
   ]
  },
  {
   "cell_type": "code",
   "execution_count": 22,
   "id": "eaa961d3-2281-4eb8-8ad3-a051ce7984e0",
   "metadata": {},
   "outputs": [],
   "source": [
    "alternate_numbers = numbers[::2]"
   ]
  },
  {
   "cell_type": "code",
   "execution_count": 23,
   "id": "8087ea5e-55bc-4698-9b96-ef13724ced6f",
   "metadata": {},
   "outputs": [
    {
     "data": {
      "text/plain": [
       "[1, 4, 6, 7, 9, 11]"
      ]
     },
     "execution_count": 23,
     "metadata": {},
     "output_type": "execute_result"
    }
   ],
   "source": [
    "alternate_numbers"
   ]
  },
  {
   "cell_type": "markdown",
   "id": "dbf67b6f-a6e1-406d-8f24-146b70a853b7",
   "metadata": {},
   "source": [
    "## 3. Given below is a dictionary. Some of the keys have the word “name” in\r\n",
    " them. Iterate over the dictionary and if the key has the word “name” in\r\n",
    " it, print the corresponding values.\n",
    " \r\n",
    " {'first name': ['Ojas', 'Biju', 'Anika', 'Badal', 'Kimaya']\n",
    " ,\r\n",
    " 'last name': ['Barad', 'Kota', 'Anand', 'Dar', 'Bali'\n",
    " ],\r\n",
    " 'marks': [76, 65, 68, 81, 6\n",
    " 3],\r\n",
    " 'mentor name': ['Arhaan', 'Jivika', 'Lagan', 'Farhan', 'Yakshi\n",
    " t'],\r\n",
    " 'section': ['A', 'A', 'C', 'B', 'A']} "
   ]
  },
  {
   "cell_type": "code",
   "execution_count": 29,
   "id": "de1b4015-01d3-487a-8a7e-7d11a047783c",
   "metadata": {},
   "outputs": [],
   "source": [
    "data = {\n",
    "    'first name': ['Ojas', 'Biju', 'Anika', 'Badal', 'Kimaya'],\n",
    "    'last name' : ['Barad', 'Kota', 'Anand', 'Dar', 'Bali'],\n",
    "    'marks' : [76, 65, 68, 81, 63],\n",
    "    'mentor name' : ['Arhaan', 'Jivika', 'Lagan', 'Farhan', 'Yakshit'],\n",
    "    'section' : ['A', 'A', 'C', 'B', 'A']\n",
    "}"
   ]
  },
  {
   "cell_type": "code",
   "execution_count": 30,
   "id": "70e0beec-2905-41e6-8296-d76ed38c86a8",
   "metadata": {},
   "outputs": [
    {
     "name": "stdout",
     "output_type": "stream",
     "text": [
      "['Ojas', 'Biju', 'Anika', 'Badal', 'Kimaya']\n",
      "['Barad', 'Kota', 'Anand', 'Dar', 'Bali']\n",
      "['Arhaan', 'Jivika', 'Lagan', 'Farhan', 'Yakshit']\n"
     ]
    }
   ],
   "source": [
    "for key, value in data.items():\n",
    "    if 'name' in key:\n",
    "        print(value)"
   ]
  },
  {
   "cell_type": "markdown",
   "id": "a620eed1-c408-403b-ab11-3754f4b05991",
   "metadata": {},
   "source": [
    "## 4. Ask a number from the user and add all the natural numbers up to that number and print the final result.\r\n",
    " \n",
    " For example: if the user gives 5, then the sum of all natural number \r\n",
    " up to would be 1+2+3+4+5 = 15 "
   ]
  },
  {
   "cell_type": "code",
   "execution_count": 5,
   "id": "eb75538e-4d01-45e3-9adf-c9fe8f489181",
   "metadata": {},
   "outputs": [
    {
     "name": "stdin",
     "output_type": "stream",
     "text": [
      "Enter a number:  5\n"
     ]
    }
   ],
   "source": [
    "number = int(input(\"Enter a number: \"))"
   ]
  },
  {
   "cell_type": "code",
   "execution_count": 6,
   "id": "48d3e6c1-99b9-487c-ba2c-cf5f83f7df39",
   "metadata": {},
   "outputs": [],
   "source": [
    "total_sum = sum(range(1, number + 1))"
   ]
  },
  {
   "cell_type": "code",
   "execution_count": 7,
   "id": "acccd97a-eee4-47c3-87eb-82970f8377f8",
   "metadata": {},
   "outputs": [
    {
     "name": "stdout",
     "output_type": "stream",
     "text": [
      "The sum of all natural numbers up to 5 is 15.\n"
     ]
    }
   ],
   "source": [
    "print(f\"The sum of all natural numbers up to {number} is {total_sum}.\")"
   ]
  },
  {
   "cell_type": "code",
   "execution_count": null,
   "id": "3461fa1d-06c3-4019-a35c-38e0b23e30a3",
   "metadata": {},
   "outputs": [],
   "source": []
  }
 ],
 "metadata": {
  "kernelspec": {
   "display_name": "Python 3 (ipykernel)",
   "language": "python",
   "name": "python3"
  },
  "language_info": {
   "codemirror_mode": {
    "name": "ipython",
    "version": 3
   },
   "file_extension": ".py",
   "mimetype": "text/x-python",
   "name": "python",
   "nbconvert_exporter": "python",
   "pygments_lexer": "ipython3",
   "version": "3.11.7"
  },
  "widgets": {
   "application/vnd.jupyter.widget-state+json": {
    "state": {},
    "version_major": 2,
    "version_minor": 0
   }
  }
 },
 "nbformat": 4,
 "nbformat_minor": 5
}
